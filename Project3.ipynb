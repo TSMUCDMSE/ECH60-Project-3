{
 "cells": [
  {
   "cell_type": "code",
   "execution_count": 1,
   "metadata": {},
   "outputs": [],
   "source": [
    "import numpy as np\n",
    "import matplotlib.pyplot as plt"
   ]
  },
  {
   "cell_type": "code",
   "execution_count": 11,
   "metadata": {},
   "outputs": [
    {
     "data": {
      "image/png": "[encoded data removed]",
      "text/plain": [
       "<Figure size 432x288 with 1 Axes>"
      ]
     },
     "metadata": {
      "needs_background": "light"
     },
     "output_type": "display_data"
    }
   ],
   "source": [
    "##Part A\n",
    "\n",
    "#parameters\n",
    "a = 0.05\n",
    "b = 1.2\n",
    "ATP0 = 1\n",
    "F6P0 = 1\n",
    "\n",
    "def dA(A,F,t): return -A + a*F + (A**2)*F\n",
    "def dF(A,F,t): return b - a*F - (A**2)*F\n",
    "\n",
    "#time range\n",
    "h = 0.5\n",
    "t = np.arange(0,100 + h, h)\n",
    "\n",
    "#blank solutions\n",
    "ATP = np.zeros(t.shape)\n",
    "F6P = np.zeros(t.shape)\n",
    "\n",
    "#initial conditions\n",
    "ATP[0] = ATP0\n",
    "F6P[0] = F6P0\n",
    "\n",
    "\n",
    "\n",
    "for i in range(len(t)-1):\n",
    "    \n",
    "    # RK4 substeps\n",
    "    kA1=dA(ATP[i],F6P[i],t[i])\n",
    "    kF1=dF(ATP[i],F6P[i],t[i])\n",
    "    \n",
    "    kA2=dA(ATP[i]+h*kA1/2,F6P[i]+h*kF1/2,t[i]+h/2)\n",
    "    kF2=dF(ATP[i]+h*kA1/2,F6P[i]+h*kF1/2,t[i]+h/2)\n",
    "    \n",
    "    kA3=dA(ATP[i]+h*kA2/2,F6P[i]+h*kF2/2,t[i]+h/2)\n",
    "    kF3=dF(ATP[i]+h*kA2/2,F6P[i]+h*kF2/2,t[i]+h/2)\n",
    "    \n",
    "    kA4=dA(ATP[i]+h*kA3,F6P[i]+h*kF3,t[i]+h/2)\n",
    "    kF4=dF(ATP[i]+h*kA3,F6P[i]+h*kF3,t[i]+h/2)\n",
    "    \n",
    "    # weighted average\n",
    "    kA=(kA1+2*kA2+2*kA3+kA4)/6\n",
    "    kF=(kF1+2*kF2+2*kF3+kF4)/6\n",
    "    \n",
    "    # jump with modified average slope\n",
    "    ATP[i+1]=ATP[i]+h*kA\n",
    "    F6P[i+1]=F6P[i]+h*kF\n",
    "    \n",
    "plt.plot(t,ATP,'r.',label= \"[ATP]\")\n",
    "plt.plot(t,F6P,'b.',label= \"[F6P]\")\n",
    "plt.legend()\n",
    "plt.show()\n"
   ]
  },
  {
   "cell_type": "code",
   "execution_count": 10,
   "metadata": {},
   "outputs": [
    {
     "data": {
      "image/png": "[encoded data removed]",
      "text/plain": [
       "<Figure size 432x288 with 1 Axes>"
      ]
     },
     "metadata": {
      "needs_background": "light"
     },
     "output_type": "display_data"
    }
   ],
   "source": [
    "##Part B\n",
    "\n",
    "#parameters\n",
    "a = 0.05\n",
    "ATP0 = 1\n",
    "F6P0 = 1\n",
    "\n",
    "#time range\n",
    "h = 0.5\n",
    "t = np.arange(0,100 + h, h)\n",
    "\n",
    "#blank solutions\n",
    "ATP = np.zeros(t.shape)\n",
    "F6P = np.zeros(t.shape)\n",
    "\n",
    "#initial conditions\n",
    "ATP[0] = ATP0\n",
    "F6P[0] = F6P0\n",
    "\n",
    "\n",
    "\n",
    "for i in range(len(t)-1):\n",
    "    if i < 30: \n",
    "        b = 1.2\n",
    "        \n",
    "        # RK4 substeps\n",
    "        kA1=dA(ATP[i],F6P[i],t[i])\n",
    "        kF1=dF(ATP[i],F6P[i],t[i])\n",
    "    \n",
    "        kA2=dA(ATP[i]+h*kA1/2,F6P[i]+h*kF1/2,t[i]+h/2)\n",
    "        kF2=dF(ATP[i]+h*kA1/2,F6P[i]+h*kF1/2,t[i]+h/2)\n",
    "    \n",
    "        kA3=dA(ATP[i]+h*kA2/2,F6P[i]+h*kF2/2,t[i]+h/2)\n",
    "        kF3=dF(ATP[i]+h*kA2/2,F6P[i]+h*kF2/2,t[i]+h/2)\n",
    "    \n",
    "        kA4=dA(ATP[i]+h*kA3,F6P[i]+h*kF3,t[i]+h/2)\n",
    "        kF4=dF(ATP[i]+h*kA3,F6P[i]+h*kF3,t[i]+h/2)\n",
    "    \n",
    "        # weighted average\n",
    "        kA=(kA1+2*kA2+2*kA3+kA4)/6\n",
    "        kF=(kF1+2*kF2+2*kF3+kF4)/6\n",
    "    \n",
    "        # jump with modified average slope\n",
    "        ATP[i+1]=ATP[i]+h*kA\n",
    "        F6P[i+1]=F6P[i]+h*kF\n",
    "    \n",
    "    if i >= 30:\n",
    "        b = 0.8\n",
    "        \n",
    "        # RK4 substeps\n",
    "        kA1=dA(ATP[i],F6P[i],t[i])\n",
    "        kF1=dF(ATP[i],F6P[i],t[i])\n",
    "    \n",
    "        kA2=dA(ATP[i]+h*kA1/2,F6P[i]+h*kF1/2,t[i]+h/2)\n",
    "        kF2=dF(ATP[i]+h*kA1/2,F6P[i]+h*kF1/2,t[i]+h/2)\n",
    "    \n",
    "        kA3=dA(ATP[i]+h*kA2/2,F6P[i]+h*kF2/2,t[i]+h/2)\n",
    "        kF3=dF(ATP[i]+h*kA2/2,F6P[i]+h*kF2/2,t[i]+h/2)\n",
    "    \n",
    "        kA4=dA(ATP[i]+h*kA3,F6P[i]+h*kF3,t[i]+h/2)\n",
    "        kF4=dF(ATP[i]+h*kA3,F6P[i]+h*kF3,t[i]+h/2)\n",
    "    \n",
    "        # weighted average\n",
    "        kA=(kA1+2*kA2+2*kA3+kA4)/6\n",
    "        kF=(kF1+2*kF2+2*kF3+kF4)/6\n",
    "    \n",
    "        # jump with modified average slope\n",
    "        ATP[i+1]=ATP[i]+h*kA\n",
    "        F6P[i+1]=F6P[i]+h*kF\n",
    "    \n",
    "plt.plot(t,ATP,'r.',label= \"[ATP]\")\n",
    "plt.plot(t,F6P,'b.',label= \"[F6P]\")\n",
    "plt.legend()\n",
    "plt.show()"
   ]
  },
  {
   "cell_type": "code",
   "execution_count": null,
   "metadata": {},
   "outputs": [],
   "source": []
  }
 ],
 "metadata": {
  "kernelspec": {
   "display_name": "Python 3",
   "language": "python",
   "name": "python3"
  },
  "language_info": {
   "codemirror_mode": {
    "name": "ipython",
    "version": 3
   },
   "file_extension": ".py",
   "mimetype": "text/x-python",
   "name": "python",
   "nbconvert_exporter": "python",
   "pygments_lexer": "ipython3",
   "version": "3.7.6"
  }
 },
 "nbformat": 4,
 "nbformat_minor": 4
}
